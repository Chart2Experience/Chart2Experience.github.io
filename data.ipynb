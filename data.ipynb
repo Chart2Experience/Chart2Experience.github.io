{
 "cells": [
  {
   "cell_type": "code",
   "execution_count": 12,
   "metadata": {},
   "outputs": [
    {
     "name": "stdout",
     "output_type": "stream",
     "text": [
      "  chart_name  person_id  mem  int  tru  emp  aes  itt  cft   model\n",
      "0    COVID-1  persona_0    6    5    7    5    5    6    6  gpt-4o\n",
      "1    COVID-1  persona_1    5    5    7    4    4    5    5  gpt-4o\n",
      "2    COVID-1  persona_2    4    4    6    5    3    4    4  gpt-4o\n",
      "3    COVID-1  persona_3    6    6    6    6    5    7    6  gpt-4o\n",
      "4    COVID-1  persona_4    5    5    6    5    4    5    5  gpt-4o\n"
     ]
    }
   ],
   "source": [
    "# import public/data/scores_GPT4o_36.csv\n",
    "import pandas as pd\n",
    "\n",
    "models = ['GPT4o_36', 'llama_216', 'sonnet_36_1', 'sonnet_36_2']\n",
    "for model in models:\n",
    "  scores_GPT4o_36 = pd.read_csv('public/data/scores_'+model+'.csv')\n",
    "\n",
    "  # delete the model column\n",
    "  scores_GPT4o_36_dropped = scores_GPT4o_36.drop(columns=['model', 'person_id'])\n",
    "\n",
    "  # group by chart_name and calculate the mean of the scores (option= ignore nan)\n",
    "  scores_GPT4o_36_mean = scores_GPT4o_36_dropped.groupby('chart_name').mean(numeric_only=True)\n",
    "\n",
    "  # set chart_name as column name\n",
    "  scores_GPT4o_36_mean.reset_index(inplace=True)\n",
    "\n",
    "  # save the result to a new csv file\n",
    "  scores_GPT4o_36_mean.to_csv('public/data/scores_'+model+'_mean.csv', index=False)\n",
    "\n",
    "  print(scores_GPT4o_36_mean.head())\n"
   ]
  },
  {
   "cell_type": "code",
   "execution_count": 14,
   "metadata": {},
   "outputs": [
    {
     "name": "stdout",
     "output_type": "stream",
     "text": [
      "  chart_name       mem       int       tru       emp       aes       itt  \\\n",
      "0    COVID-1  4.916667  5.277778  5.777778  4.361111  4.694444  5.250000   \n",
      "1   COVID-10  5.305556  5.222222  5.972222  4.527778  5.027778  5.166667   \n",
      "2   COVID-11  5.416667  5.305556  6.055556  4.416667  5.138889  5.333333   \n",
      "3   COVID-12  5.277778  5.500000  6.083333  4.416667  5.000000  5.333333   \n",
      "4    COVID-2  5.055556  5.277778  5.916667  4.611111  4.805556  5.194444   \n",
      "\n",
      "        cft  \n",
      "0  5.138889  \n",
      "1  5.166667  \n",
      "2  5.194444  \n",
      "3  5.250000  \n",
      "4  5.166667  \n"
     ]
    }
   ],
   "source": []
  }
 ],
 "metadata": {
  "kernelspec": {
   "display_name": "Python 3",
   "language": "python",
   "name": "python3"
  },
  "language_info": {
   "codemirror_mode": {
    "name": "ipython",
    "version": 3
   },
   "file_extension": ".py",
   "mimetype": "text/x-python",
   "name": "python",
   "nbconvert_exporter": "python",
   "pygments_lexer": "ipython3",
   "version": "3.11.5"
  }
 },
 "nbformat": 4,
 "nbformat_minor": 2
}
